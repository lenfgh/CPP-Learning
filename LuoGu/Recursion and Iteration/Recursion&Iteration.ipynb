{
 "cells": [
  {
   "cell_type": "markdown",
   "metadata": {},
   "source": [
    "# 递归和递推\n",
    "\n",
    "- 这里的题目来自洛谷"
   ]
  },
  {
   "cell_type": "markdown",
   "metadata": {},
   "source": [
    "## P1255数楼梯"
   ]
  },
  {
   "cell_type": "markdown",
   "metadata": {},
   "source": [
    "### 题目描述\n",
    "\n",
    "楼梯有 $N$ 阶，上楼可以一步上一阶，也可以一步上二阶。\n",
    "\n",
    "编一个程序，计算共有多少种不同的走法。\n",
    "\n",
    "### 输入格式\n",
    "\n",
    "一个数字，楼梯数。\n",
    "\n",
    "### 输出格式\n",
    "\n",
    "输出走的方式总数。\n",
    "\n",
    "### 样例 #1\n",
    "\n",
    "#### 样例输入 #1\n",
    "\n",
    "```\n",
    "4\n",
    "```\n",
    "\n",
    "#### 样例输出 #1\n",
    "\n",
    "```\n",
    "5\n",
    "```\n",
    "\n",
    "### 提示\n",
    "\n",
    "- 对于 $60\\%$ 的数据，$N \\leq 50$；   \n",
    "- 对于 $100\\%$ 的数据，$1 \\le N \\leq 5000$。"
   ]
  },
  {
   "cell_type": "code",
   "execution_count": 1,
   "metadata": {
    "vscode": {
     "languageId": "cpp"
    }
   },
   "outputs": [],
   "source": [
    "#include <iostream>"
   ]
  },
  {
   "cell_type": "code",
   "execution_count": 2,
   "metadata": {
    "vscode": {
     "languageId": "cpp"
    }
   },
   "outputs": [],
   "source": [
    "int dfs(int i){\n",
    "    if (i ==1 ) return 1;\n",
    "    if (i ==2 ) return 2;\n",
    "    return dfs(i-1) + dfs(i-2); \n",
    "};"
   ]
  },
  {
   "cell_type": "code",
   "execution_count": 5,
   "metadata": {
    "vscode": {
     "languageId": "cpp"
    }
   },
   "outputs": [
    {
     "name": "stdout",
     "output_type": "stream",
     "text": [
      "89"
     ]
    }
   ],
   "source": [
    "int n = 10;\n",
    "std::cout << dfs(n);"
   ]
  }
 ],
 "metadata": {
  "kernelspec": {
   "display_name": "C++17",
   "language": "C++17",
   "name": "xcpp17"
  },
  "language_info": {
   "codemirror_mode": "text/x-c++src",
   "file_extension": ".cpp",
   "mimetype": "text/x-c++src",
   "name": "c++",
   "version": "17"
  }
 },
 "nbformat": 4,
 "nbformat_minor": 2
}
